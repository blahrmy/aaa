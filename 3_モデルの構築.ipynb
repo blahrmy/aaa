{
 "cells": [
  {
   "cell_type": "markdown",
   "id": "90c687e2-1721-452d-83c8-3b6a476dbd7a",
   "metadata": {},
   "source": [
    "### モデルの構築\n",
    "\n",
    "データの性質をもとに、データや分析の目的に合致したモデルを構築する。  \n",
    "ここでは、沈殿水濁度を予測するモデルを構築する。"
   ]
  },
  {
   "cell_type": "code",
   "execution_count": 2,
   "id": "b70cb228-2220-46d4-9626-c120ab65bcf3",
   "metadata": {},
   "outputs": [],
   "source": [
    "import numpy as np\n",
    "import pandas as pd\n",
    "import matplotlib.pyplot as plt\n",
    "import seaborn as sns\n",
    "import japanize_matplotlib\n",
    "\n",
    "import warnings\n",
    "warnings.filterwarnings('ignore')"
   ]
  },
  {
   "cell_type": "markdown",
   "id": "68103344-5dc0-4a90-b922-f92a9221cec9",
   "metadata": {},
   "source": [
    "---\n",
    "### 1. 重回帰モデル\n",
    "\n",
    "ここではもっとも単純な重回帰モデルを使用してモデル構築を行う。  "
   ]
  },
  {
   "cell_type": "markdown",
   "id": "1f0d4443-f660-4b16-868a-963c1e3ad452",
   "metadata": {},
   "source": [
    "- データの読み込み"
   ]
  },
  {
   "cell_type": "code",
   "execution_count": 3,
   "id": "3d0a8300-5787-4c59-8cb3-aca92f071eca",
   "metadata": {},
   "outputs": [
    {
     "data": {
      "text/html": [
       "<div>\n",
       "<style scoped>\n",
       "    .dataframe tbody tr th:only-of-type {\n",
       "        vertical-align: middle;\n",
       "    }\n",
       "\n",
       "    .dataframe tbody tr th {\n",
       "        vertical-align: top;\n",
       "    }\n",
       "\n",
       "    .dataframe thead th {\n",
       "        text-align: right;\n",
       "    }\n",
       "</style>\n",
       "<table border=\"1\" class=\"dataframe\">\n",
       "  <thead>\n",
       "    <tr style=\"text-align: right;\">\n",
       "      <th></th>\n",
       "      <th>原水濁度</th>\n",
       "      <th>原水温度</th>\n",
       "      <th>原水pH</th>\n",
       "      <th>原水色度</th>\n",
       "      <th>PAC注入率</th>\n",
       "      <th>前苛性ソーダ注入率</th>\n",
       "      <th>取水流量積算</th>\n",
       "      <th>原水濁度_shift1</th>\n",
       "      <th>原水温度_shift1</th>\n",
       "      <th>原水pH_shift1</th>\n",
       "      <th>原水色度_shift1</th>\n",
       "      <th>PAC注入率_shift1</th>\n",
       "      <th>前苛性ソーダ注入率_shift1</th>\n",
       "      <th>取水流量積算_shift1</th>\n",
       "      <th>沈殿水濁度</th>\n",
       "      <th>沈殿水pH</th>\n",
       "    </tr>\n",
       "    <tr>\n",
       "      <th>collectiondatetime</th>\n",
       "      <th></th>\n",
       "      <th></th>\n",
       "      <th></th>\n",
       "      <th></th>\n",
       "      <th></th>\n",
       "      <th></th>\n",
       "      <th></th>\n",
       "      <th></th>\n",
       "      <th></th>\n",
       "      <th></th>\n",
       "      <th></th>\n",
       "      <th></th>\n",
       "      <th></th>\n",
       "      <th></th>\n",
       "      <th></th>\n",
       "      <th></th>\n",
       "    </tr>\n",
       "  </thead>\n",
       "  <tbody>\n",
       "    <tr>\n",
       "      <th>2018-08-07 01:00:00</th>\n",
       "      <td>0.86</td>\n",
       "      <td>15.4</td>\n",
       "      <td>7.32</td>\n",
       "      <td>3.92</td>\n",
       "      <td>61.511628</td>\n",
       "      <td>4.186047</td>\n",
       "      <td>86.0</td>\n",
       "      <td>0.86</td>\n",
       "      <td>15.5</td>\n",
       "      <td>7.34</td>\n",
       "      <td>3.91</td>\n",
       "      <td>61.149425</td>\n",
       "      <td>4.252874</td>\n",
       "      <td>87.0</td>\n",
       "      <td>0.22</td>\n",
       "      <td>7.06</td>\n",
       "    </tr>\n",
       "    <tr>\n",
       "      <th>2018-08-07 02:00:00</th>\n",
       "      <td>0.81</td>\n",
       "      <td>15.3</td>\n",
       "      <td>7.35</td>\n",
       "      <td>3.92</td>\n",
       "      <td>59.655172</td>\n",
       "      <td>4.022989</td>\n",
       "      <td>87.0</td>\n",
       "      <td>0.86</td>\n",
       "      <td>15.4</td>\n",
       "      <td>7.32</td>\n",
       "      <td>3.92</td>\n",
       "      <td>61.511628</td>\n",
       "      <td>4.186047</td>\n",
       "      <td>86.0</td>\n",
       "      <td>0.23</td>\n",
       "      <td>7.06</td>\n",
       "    </tr>\n",
       "    <tr>\n",
       "      <th>2018-08-07 03:00:00</th>\n",
       "      <td>0.81</td>\n",
       "      <td>15.2</td>\n",
       "      <td>7.39</td>\n",
       "      <td>3.88</td>\n",
       "      <td>60.348837</td>\n",
       "      <td>4.069767</td>\n",
       "      <td>86.0</td>\n",
       "      <td>0.81</td>\n",
       "      <td>15.3</td>\n",
       "      <td>7.35</td>\n",
       "      <td>3.92</td>\n",
       "      <td>59.655172</td>\n",
       "      <td>4.022989</td>\n",
       "      <td>87.0</td>\n",
       "      <td>0.22</td>\n",
       "      <td>7.02</td>\n",
       "    </tr>\n",
       "    <tr>\n",
       "      <th>2018-08-07 04:00:00</th>\n",
       "      <td>0.81</td>\n",
       "      <td>15.1</td>\n",
       "      <td>7.41</td>\n",
       "      <td>3.89</td>\n",
       "      <td>59.655172</td>\n",
       "      <td>4.022989</td>\n",
       "      <td>87.0</td>\n",
       "      <td>0.81</td>\n",
       "      <td>15.2</td>\n",
       "      <td>7.39</td>\n",
       "      <td>3.88</td>\n",
       "      <td>60.348837</td>\n",
       "      <td>4.069767</td>\n",
       "      <td>86.0</td>\n",
       "      <td>0.22</td>\n",
       "      <td>7.02</td>\n",
       "    </tr>\n",
       "    <tr>\n",
       "      <th>2018-08-07 05:00:00</th>\n",
       "      <td>0.83</td>\n",
       "      <td>15.0</td>\n",
       "      <td>7.43</td>\n",
       "      <td>3.89</td>\n",
       "      <td>59.655172</td>\n",
       "      <td>4.137931</td>\n",
       "      <td>87.0</td>\n",
       "      <td>0.81</td>\n",
       "      <td>15.1</td>\n",
       "      <td>7.41</td>\n",
       "      <td>3.89</td>\n",
       "      <td>59.655172</td>\n",
       "      <td>4.022989</td>\n",
       "      <td>87.0</td>\n",
       "      <td>0.23</td>\n",
       "      <td>7.05</td>\n",
       "    </tr>\n",
       "  </tbody>\n",
       "</table>\n",
       "</div>"
      ],
      "text/plain": [
       "                     原水濁度  原水温度  原水pH  原水色度     PAC注入率  前苛性ソーダ注入率  取水流量積算  \\\n",
       "collectiondatetime                                                          \n",
       "2018-08-07 01:00:00  0.86  15.4  7.32  3.92  61.511628   4.186047    86.0   \n",
       "2018-08-07 02:00:00  0.81  15.3  7.35  3.92  59.655172   4.022989    87.0   \n",
       "2018-08-07 03:00:00  0.81  15.2  7.39  3.88  60.348837   4.069767    86.0   \n",
       "2018-08-07 04:00:00  0.81  15.1  7.41  3.89  59.655172   4.022989    87.0   \n",
       "2018-08-07 05:00:00  0.83  15.0  7.43  3.89  59.655172   4.137931    87.0   \n",
       "\n",
       "                     原水濁度_shift1  原水温度_shift1  原水pH_shift1  原水色度_shift1  \\\n",
       "collectiondatetime                                                        \n",
       "2018-08-07 01:00:00         0.86         15.5         7.34         3.91   \n",
       "2018-08-07 02:00:00         0.86         15.4         7.32         3.92   \n",
       "2018-08-07 03:00:00         0.81         15.3         7.35         3.92   \n",
       "2018-08-07 04:00:00         0.81         15.2         7.39         3.88   \n",
       "2018-08-07 05:00:00         0.81         15.1         7.41         3.89   \n",
       "\n",
       "                     PAC注入率_shift1  前苛性ソーダ注入率_shift1  取水流量積算_shift1  沈殿水濁度  \\\n",
       "collectiondatetime                                                           \n",
       "2018-08-07 01:00:00      61.149425          4.252874           87.0   0.22   \n",
       "2018-08-07 02:00:00      61.511628          4.186047           86.0   0.23   \n",
       "2018-08-07 03:00:00      59.655172          4.022989           87.0   0.22   \n",
       "2018-08-07 04:00:00      60.348837          4.069767           86.0   0.22   \n",
       "2018-08-07 05:00:00      59.655172          4.022989           87.0   0.23   \n",
       "\n",
       "                     沈殿水pH  \n",
       "collectiondatetime          \n",
       "2018-08-07 01:00:00   7.06  \n",
       "2018-08-07 02:00:00   7.06  \n",
       "2018-08-07 03:00:00   7.02  \n",
       "2018-08-07 04:00:00   7.02  \n",
       "2018-08-07 05:00:00   7.05  "
      ]
     },
     "execution_count": 3,
     "metadata": {},
     "output_type": "execute_result"
    }
   ],
   "source": [
    "# 2_データの前処理.ipynbで作成されたデータを使用\n",
    "df = pd.read_csv(\"./output/2/preprocessed_data.csv\",\n",
    "                 index_col=\"collectiondatetime\",\n",
    "                 parse_dates=True)\n",
    "df.head()"
   ]
  },
  {
   "cell_type": "markdown",
   "id": "c40dd0e9-4e9c-4caf-82ec-ef8cfd443cc9",
   "metadata": {},
   "source": [
    "- データの前準備"
   ]
  },
  {
   "cell_type": "markdown",
   "id": "caaa41e3-2564-4b15-a219-ee22c49ea105",
   "metadata": {},
   "source": [
    "1時間後の沈殿水濁度を予測するため、説明変数は1時間ずらした列を使用する"
   ]
  },
  {
   "cell_type": "code",
   "execution_count": 4,
   "id": "c7c58f1a-9baf-4706-8755-999757632b76",
   "metadata": {},
   "outputs": [],
   "source": [
    "X_cols = [\n",
    "    \"原水濁度_shift1\",\n",
    "    \"原水温度_shift1\",\n",
    "    \"原水pH_shift1\",\n",
    "    \"原水色度_shift1\",\n",
    "    \"PAC注入率_shift1\",\n",
    "    \"前苛性ソーダ注入率_shift1\",\n",
    "    \"取水流量積算_shift1\",\n",
    "]"
   ]
  },
  {
   "cell_type": "markdown",
   "id": "109aa4a8-577e-4827-b707-1809b77bbc84",
   "metadata": {},
   "source": [
    "学習用データ（2018年度と2019年度）の準備  "
   ]
  },
  {
   "cell_type": "code",
   "execution_count": 5,
   "id": "2b7e8b2b-17dd-43ee-a08f-16222cf8881c",
   "metadata": {},
   "outputs": [],
   "source": [
    "# 学習用とテスト用に分割\n",
    "### テスト用はモデル評価にのみ使用するので、ここでは定義しない\n",
    "df_train = df[:\"2020-03-31\"]\n",
    "\n",
    "# 説明変数と目的変数に分割\n",
    "X_train = df_train[X_cols]\n",
    "y_train = df_train[[\"沈殿水濁度\"]]"
   ]
  },
  {
   "cell_type": "markdown",
   "id": "dce61c40-0d86-4929-8f50-140dac5f7e5d",
   "metadata": {},
   "source": [
    "- モデル構築"
   ]
  },
  {
   "cell_type": "code",
   "execution_count": 6,
   "id": "af3e7c4c-99f4-40c7-a967-5bb6b21d6714",
   "metadata": {},
   "outputs": [
    {
     "data": {
      "text/plain": [
       "LinearRegression()"
      ]
     },
     "execution_count": 6,
     "metadata": {},
     "output_type": "execute_result"
    }
   ],
   "source": [
    "from sklearn import linear_model\n",
    "\n",
    "# 重回帰モデルを構築\n",
    "model = linear_model.LinearRegression()\n",
    "model.fit(X_train, y_train)"
   ]
  },
  {
   "cell_type": "markdown",
   "id": "1686dbc4-adba-40ec-ac20-91ea56425b9d",
   "metadata": {},
   "source": [
    "- モデル保存\n",
    "\n",
    "後で評価するために構築したモデルを保存する"
   ]
  },
  {
   "cell_type": "code",
   "execution_count": 7,
   "id": "310fe6fd-ef81-4611-8b86-9374794e6ee5",
   "metadata": {},
   "outputs": [],
   "source": [
    "# モデルを保存\n",
    "import pickle\n",
    "\n",
    "filename = \"./output/3/Linear_Regression.pkl\"\n",
    "pickle.dump(model, open(filename,'wb'))"
   ]
  },
  {
   "cell_type": "code",
   "execution_count": null,
   "id": "f55b961d-f5d2-45b9-8941-2e6977806fb6",
   "metadata": {},
   "outputs": [],
   "source": []
  }
 ],
 "metadata": {
  "kernelspec": {
   "display_name": "Python 3",
   "language": "python",
   "name": "python3"
  },
  "language_info": {
   "codemirror_mode": {
    "name": "ipython",
    "version": 3
   },
   "file_extension": ".py",
   "mimetype": "text/x-python",
   "name": "python",
   "nbconvert_exporter": "python",
   "pygments_lexer": "ipython3",
   "version": "3.8.9"
  }
 },
 "nbformat": 4,
 "nbformat_minor": 5
}
